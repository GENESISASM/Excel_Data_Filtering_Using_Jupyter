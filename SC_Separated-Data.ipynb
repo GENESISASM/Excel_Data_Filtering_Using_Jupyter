{
 "cells": [
  {
   "cell_type": "code",
   "execution_count": null,
   "metadata": {},
   "outputs": [],
   "source": [
    "# File Source Filtering in Excel using jupyter Python\n",
    "# Source Code to find duplicate data and separate it\n",
    "\n",
    "import os\n",
    "import pandas as pd # install pandas library using command (pip install pandas) or (python -m pip install pandas)\n",
    "\n",
    "source_location = 'C:\\\\Users\\\\name\\\\.....\\\\File_Name' #fill path source file directory\n",
    "destination_location ='C:\\\\Users\\\\name\\\\.....\\\\New_Location_File_Name' #fill path destination directory\n",
    "\n",
    "column_name = 'column_name' # fill it using title in a table what you want to find data duplicate\n",
    "\n",
    "for filename in os.listdir(source_location):\n",
    "    if filename.endswith('.xlsx'):\n",
    "        source_file_path = os.path.join(source_location, filename)\n",
    "        \n",
    "        df = pd.read_excel(source_file_path)\n",
    "        \n",
    "        df.drop_duplicates(subset=[column_name], inplace=True)\n",
    "        \n",
    "        destination_file_path = os.path.join(destination_location, filename)\n",
    "        \n",
    "        df.to_excel(destination_file_path, index=False)"
   ]
  },
  {
   "cell_type": "code",
   "execution_count": null,
   "metadata": {},
   "outputs": [],
   "source": [
    "# Source Code to separate unique file per sheet with a title that corresponds to the unique file\n",
    "\n",
    "import pandas as pd # need install library = pip install pandas or python -m pip install pandas\n",
    "from xlsxwriter import Workbook # need install library = pip install Xlsxwriter\n",
    "\n",
    "excel_file = pd.ExcelFile('Excel_Name.xlsx') # Fill using excel name file\n",
    "sheet_names = excel_file.sheet_names\n",
    "city_data = {}\n",
    "writer = pd.ExcelWriter('Excel_New_Name.xlsx', engine='xlsxwriter') # Fill uisng new Excel Name File\n",
    "\n",
    "for sheet_name in sheet_names:\n",
    "    df = excel_file.parse(sheet_name)\n",
    "    unique_cities = df['Column_Name'].unique() # type: ignore\n",
    "    for city in unique_cities:\n",
    "        city_data[city] = df[df['Column_Name'] == city]\n",
    "\n",
    "for city, data_frame in city_data.items():\n",
    "    data_frame.to_excel(writer, sheet_name=city, index=False)\n",
    "\n",
    "writer.close() #close filtering data"
   ]
  },
  {
   "cell_type": "code",
   "execution_count": null,
   "metadata": {},
   "outputs": [],
   "source": [
    "# Source Code to separate data based on unique subtitle in Column_Name\n",
    "\n",
    "import pandas as pd\n",
    "\n",
    "df = pd.read_excel('Source_File.xlsx', sheet_name=\"Sheet1\")\n",
    "df.head()\n",
    "\n",
    "filter_values = ['Unique_Subtitle_Name']\n",
    "\n",
    "filter_df = df[df['Column_Name'].isin(filter_values)]\n",
    "\n",
    "filter_df.to_excel('New_Excel_File.xlsx', index=False) # put it on new file excel that name what u want"
   ]
  }
 ],
 "metadata": {
  "language_info": {
   "name": "python"
  }
 },
 "nbformat": 4,
 "nbformat_minor": 2
}
